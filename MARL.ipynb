{
 "cells": [
  {
   "cell_type": "code",
   "execution_count": 14,
   "id": "117a6c1f-21ad-456f-881d-030b8db554e4",
   "metadata": {},
   "outputs": [],
   "source": [
    "import os\n",
    "\n",
    "from typing import Dict, Any, Optional, Callable\n",
    "\n",
    "import gymnasium as gym\n",
    "from gymnasium.envs.registration import register, registry\n",
    "from gymnasium.wrappers import RecordVideo\n",
    "import time\n",
    "import numpy as np\n",
    "\n",
    "# from typing import Any, Dict\n",
    "import torch\n",
    "import torch.nn as nn\n",
    "\n",
    "from stable_baselines3 import PPO\n",
    "from stable_baselines3.common.env_util import make_vec_env\n",
    "from stable_baselines3.common.evaluation import evaluate_policy\n",
    "from stable_baselines3.common.callbacks import EvalCallback\n",
    "from stable_baselines3.common.monitor import Monitor"
   ]
  },
  {
   "cell_type": "code",
   "execution_count": 15,
   "id": "3b8432d5-ff64-4cda-b690-0cbf42c7191d",
   "metadata": {},
   "outputs": [],
   "source": [
    "if 'MarineEnv-v0' not in registry:\n",
    "    register(\n",
    "        id='MarineEnv-v0',\n",
    "        entry_point='marl:MarineEnv',  # String reference to the class\n",
    "    )\n",
    "\n",
    "def yield_random_seed():\n",
    "    while True:\n",
    "        yield np.random.randint(low=1, high=201)\n",
    "seed_generator = yield_random_seed()"
   ]
  },
  {
   "cell_type": "code",
   "execution_count": 18,
   "id": "f13b1c19-a160-40fe-b6a4-75ebadbd7bb7",
   "metadata": {},
   "outputs": [
    {
     "name": "stdout",
     "output_type": "stream",
     "text": [
      "Seed set to 42\n"
     ]
    }
   ],
   "source": [
    "kwargs = dict(\n",
    "        render_mode='rgb_array',\n",
    "        training_stage=2,\n",
    "        timescale=1/3,\n",
    "        training=False,\n",
    "        total_targets=2,\n",
    "        seed=42,\n",
    "        marl=False,\n",
    "    )\n",
    "    \n",
    "env = gym.make(\n",
    "        'MarineEnv-v0',\n",
    "        **kwargs,\n",
    "    )"
   ]
  },
  {
   "cell_type": "code",
   "execution_count": 19,
   "id": "81b8f464-be01-4703-bd32-2fac0c130057",
   "metadata": {},
   "outputs": [
    {
     "data": {
      "text/plain": [
       "(36,)"
      ]
     },
     "execution_count": 19,
     "metadata": {},
     "output_type": "execute_result"
    }
   ],
   "source": [
    "env.observation_space.shape"
   ]
  },
  {
   "cell_type": "code",
   "execution_count": 12,
   "id": "a7b249aa-1871-4416-ab16-a29c74411c0f",
   "metadata": {},
   "outputs": [],
   "source": [
    "def run_video_rendering(\n",
    "    agent: Any, \n",
    "    episodes: int = 3, \n",
    "    timescale: float = 1/6, \n",
    "    seed: Optional[int] = None, \n",
    "    record_video: bool = False, \n",
    "    episode_trigger: Optional[Callable[[int], bool]] = None, \n",
    "    name_prefix: Optional[str] = None, \n",
    "    video_folder: Optional[str] = None,\n",
    "    marl: bool = False\n",
    ") -> None:\n",
    "    \"\"\"\n",
    "    Runs a simulation of the MarineEnv-v0 environment using the given agent, with optional video recording.\n",
    "\n",
    "    Parameters:\n",
    "    - agent: The trained agent used for inference.\n",
    "    - episodes (int): Number of episodes to run (default is 3).\n",
    "    - timescale (float): The simulation timescale factor (default is 1/6).\n",
    "    - seed (int, optional): Random seed for environment initialization. If None, a generated seed is used.\n",
    "    - record_video (bool): If True, records the simulation as a video (default is False).\n",
    "    - episode_trigger (function, optional): A function that determines which episodes get recorded.\n",
    "    - name_prefix (str, optional): Prefix for recorded video file names.\n",
    "    - video_folder (str, optional): Path to save recorded videos.\n",
    "    - marl (bool): If True, running the env in MARL mode.\n",
    "\n",
    "    Behavior:\n",
    "    - If video recording is enabled, the environment is wrapped with RecordVideo.\n",
    "    - Logs episode statistics, including total rewards, episode length, and termination status.\n",
    "    - If recording, logs are saved to a text file in the specified video folder.\n",
    "    - Displays simulation results in the console if video recording is disabled.\n",
    "\n",
    "    Returns:\n",
    "    - None. The function either logs the results to a file or prints them to the console.\n",
    "    \"\"\"\n",
    "    \n",
    "    if seed is None:\n",
    "        seed = next(seed_generator)\n",
    "        \n",
    "    kwargs = dict(\n",
    "        render_mode='rgb_array' if record_video else 'human',\n",
    "        continuous=True,\n",
    "        training_stage=2,\n",
    "        timescale=timescale,\n",
    "        training=False,\n",
    "        total_targets=2,\n",
    "        seed=seed,\n",
    "        marl=marl,\n",
    "    )\n",
    "    \n",
    "    env = gym.make(\n",
    "        'MarineEnv-v0',\n",
    "        **kwargs,\n",
    "    )\n",
    "    \n",
    "    if record_video:\n",
    "        from IPython.display import HTML\n",
    "        from base64 import b64encode\n",
    "        \n",
    "        if episode_trigger is None:\n",
    "            episode_trigger = lambda episode_id: True\n",
    "\n",
    "        if video_folder is None:\n",
    "            video_folder = video_folder   \n",
    "        else:\n",
    "            if name_prefix:\n",
    "                video_folder = os.path.join(video_folder, name_prefix)\n",
    "        \n",
    "        # wrap environment for video recording\n",
    "        env = RecordVideo(\n",
    "            env=env, \n",
    "            video_folder=video_folder, \n",
    "            episode_trigger=lambda episode_id: True, \n",
    "            name_prefix=name_prefix)\n",
    "        \n",
    "    logged_episodes = []\n",
    "    logged_rewards = []\n",
    "    for episode in range(episodes):\n",
    "        state, _ = env.reset()\n",
    "        episode_rewards = 0\n",
    "\n",
    "        if kwargs['marl']:\n",
    "            eta = state[0][5]\n",
    "        else:\n",
    "            eta = state[5]\n",
    "        \n",
    "        for step in range(int(400 / timescale)):\n",
    "            if kwargs['marl']:\n",
    "                with torch.no_grad():\n",
    "                    actions = [agent.predict(i, deterministic=True)[0] for i in state]\n",
    "                next_state, reward, terminated, truncated, info = env.step(actions)\n",
    "            else:\n",
    "                with torch.no_grad():\n",
    "                    action = agent.predict(state, deterministic=True)\n",
    "            \n",
    "                state, reward, terminated, truncated, info = env.step(action[0])\n",
    "            \n",
    "            if not record_video:\n",
    "                env.render()\n",
    "                \n",
    "            episode_rewards += reward\n",
    "            \n",
    "            if terminated or truncated:\n",
    "                break\n",
    "                \n",
    "            time.sleep(0.005)\n",
    "         \n",
    "        result_string = f'Episode: {episode}\\nEpisode length: {step}, Elapsed real time: {round(step * timescale)} minutes, Initial WP ETA: {round(eta)} minutes\\nEpisode total rewards: {episode_rewards :.2f}\\nIs terminated: {info[\"terminated\"]}, Is truncated: {info[\"truncated\"]}\\n============================\\n'\n",
    "\n",
    "        logged_episodes.append(result_string)\n",
    "        logged_rewards.append(episode_rewards)\n",
    "\n",
    "    evaluation = f'Mean: {np.array(logged_rewards).mean():.2f}, Std: {np.array(logged_rewards).std():.2f}, Initial seed: {seed}'\n",
    "    logged_episodes.append(evaluation)\n",
    "    # Open log file\n",
    "    if record_video:\n",
    "        log_file_path = os.path.join(video_folder, name_prefix + '.txt')\n",
    "        with open(log_file_path, 'w') as log_file:\n",
    "            log_file.write('\\n'.join(logged_episodes))\n",
    "            print(f\"Training log saved at: {log_file_path}\")\n",
    "    else:\n",
    "        print('\\n'.join(logged_episodes))\n",
    "    \n",
    "    env.close()"
   ]
  },
  {
   "cell_type": "code",
   "execution_count": 13,
   "id": "6ea31075-50e9-4ee1-b60f-8f41a6a02d66",
   "metadata": {},
   "outputs": [
    {
     "name": "stdout",
     "output_type": "stream",
     "text": [
      "Seed set to 45\n"
     ]
    },
    {
     "name": "stderr",
     "output_type": "stream",
     "text": [
      "/opt/conda/lib/python3.11/site-packages/gymnasium/utils/passive_env_checker.py:130: UserWarning: \u001b[33mWARN: The obs returned by the `reset()` method was expecting a numpy array, actual type: <class 'list'>\u001b[0m\n",
      "  logger.warn(\n",
      "/opt/conda/lib/python3.11/site-packages/gymnasium/spaces/box.py:418: UserWarning: \u001b[33mWARN: Casting input x to numpy array.\u001b[0m\n",
      "  gym.logger.warn(\"Casting input x to numpy array.\")\n",
      "/opt/conda/lib/python3.11/site-packages/gymnasium/utils/passive_env_checker.py:158: UserWarning: \u001b[33mWARN: The obs returned by the `reset()` method is not within the observation space.\u001b[0m\n",
      "  logger.warn(f\"{pre} is not within the observation space.\")\n",
      "/opt/conda/lib/python3.11/site-packages/gymnasium/utils/passive_env_checker.py:130: UserWarning: \u001b[33mWARN: The obs returned by the `step()` method was expecting a numpy array, actual type: <class 'list'>\u001b[0m\n",
      "  logger.warn(\n",
      "/opt/conda/lib/python3.11/site-packages/gymnasium/utils/passive_env_checker.py:158: UserWarning: \u001b[33mWARN: The obs returned by the `step()` method is not within the observation space.\u001b[0m\n",
      "  logger.warn(f\"{pre} is not within the observation space.\")\n"
     ]
    },
    {
     "name": "stdout",
     "output_type": "stream",
     "text": [
      "Episode: 0\n",
      "Episode length: 295, Elapsed real time: 49 minutes, Initial WP ETA: 48 minutes\n",
      "Episode total rewards: 531.61\n",
      "Is terminated: WP Reached!, Is truncated: False\n",
      "============================\n",
      "\n",
      "Mean: 531.61, Std: 0.00, Initial seed: 45\n"
     ]
    }
   ],
   "source": [
    "run_video_rendering(agent, episodes=1, marl=True)"
   ]
  },
  {
   "cell_type": "code",
   "execution_count": 7,
   "id": "6c1530a7-5fe6-40e5-a035-d124fea616a9",
   "metadata": {},
   "outputs": [
    {
     "name": "stdout",
     "output_type": "stream",
     "text": [
      "Seed set to 42\n",
      "Episode: 0\n",
      "Episode length: 475, Elapsed real time: 79 minutes, Initial WP ETA: 80 minutes\n",
      "Episode total rewards: 755.61\n",
      "Is terminated: WP Reached!, Is truncated: False\n",
      "============================\n",
      "\n",
      "Mean: 755.61, Std: 0.00, Initial seed: 42\n"
     ]
    }
   ],
   "source": [
    "run_video_rendering(agent, episodes=1, marl=False, seed=42)"
   ]
  },
  {
   "cell_type": "code",
   "execution_count": null,
   "id": "93863a12-3c3a-4ef6-93aa-54855c9af09b",
   "metadata": {},
   "outputs": [],
   "source": []
  }
 ],
 "metadata": {
  "kernelspec": {
   "display_name": "Python 3 (ipykernel)",
   "language": "python",
   "name": "python3"
  },
  "language_info": {
   "codemirror_mode": {
    "name": "ipython",
    "version": 3
   },
   "file_extension": ".py",
   "mimetype": "text/x-python",
   "name": "python",
   "nbconvert_exporter": "python",
   "pygments_lexer": "ipython3",
   "version": "3.11.11"
  }
 },
 "nbformat": 4,
 "nbformat_minor": 5
}
