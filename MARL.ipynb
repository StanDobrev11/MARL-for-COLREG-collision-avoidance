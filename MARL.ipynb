{
 "cells": [
  {
   "cell_type": "code",
   "execution_count": null,
   "id": "ee23065d-d251-46e6-85c1-96577ad53706",
   "metadata": {},
   "outputs": [],
   "source": [
    "!pip install rich"
   ]
  },
  {
   "cell_type": "code",
   "execution_count": 1,
   "id": "117a6c1f-21ad-456f-881d-030b8db554e4",
   "metadata": {},
   "outputs": [],
   "source": [
    "import os\n",
    "\n",
    "from typing import Dict, Any, Optional, Callable\n",
    "\n",
    "import gymnasium as gym\n",
    "from gymnasium.envs.registration import register, registry\n",
    "from gymnasium.wrappers import RecordVideo\n",
    "import time\n",
    "import numpy as np\n",
    "\n",
    "# from typing import Any, Dict\n",
    "import torch\n",
    "import torch.nn as nn\n",
    "\n",
    "from stable_baselines3 import PPO\n",
    "from stable_baselines3.common.env_util import make_vec_env\n",
    "from stable_baselines3.common.evaluation import evaluate_policy\n",
    "from stable_baselines3.common.callbacks import EvalCallback\n",
    "from stable_baselines3.common.monitor import Monitor"
   ]
  },
  {
   "cell_type": "code",
   "execution_count": 2,
   "id": "1be75fa0-2c7f-41f1-9b23-59fc3388e7ff",
   "metadata": {},
   "outputs": [],
   "source": [
    "# Create folders for logs and videos\n",
    "log_folder = './marl_logs'\n",
    "video_folder = os.path.join(log_folder, 'video')\n",
    "os.makedirs(video_folder, exist_ok=True)\n",
    "# PPO.load(os.path.join(log_folder, 'optuna/best_model/best_model.zip'), device='cpu').policy"
   ]
  },
  {
   "cell_type": "code",
   "execution_count": 3,
   "id": "3925f65e-545b-485c-a6a1-78d39d79a1cb",
   "metadata": {},
   "outputs": [
    {
     "data": {
      "text/html": [
       "\n",
       "      <iframe id=\"tensorboard-frame-e156f588810013d3\" width=\"100%\" height=\"800\" frameborder=\"0\">\n",
       "      </iframe>\n",
       "      <script>\n",
       "        (function() {\n",
       "          const frame = document.getElementById(\"tensorboard-frame-e156f588810013d3\");\n",
       "          const url = new URL(\"/\", window.location);\n",
       "          const port = 6006;\n",
       "          if (port) {\n",
       "            url.port = port;\n",
       "          }\n",
       "          frame.src = url;\n",
       "        })();\n",
       "      </script>\n",
       "    "
      ],
      "text/plain": [
       "<IPython.core.display.HTML object>"
      ]
     },
     "metadata": {},
     "output_type": "display_data"
    }
   ],
   "source": [
    "%matplotlib inline\n",
    "%load_ext tensorboard\n",
    "\n",
    "%tensorboard --logdir {log_folder} --host=0.0.0.0"
   ]
  },
  {
   "cell_type": "code",
   "execution_count": 4,
   "id": "3b8432d5-ff64-4cda-b690-0cbf42c7191d",
   "metadata": {},
   "outputs": [],
   "source": [
    "if 'MarineEnv-v0' not in registry:\n",
    "    register(\n",
    "        id='MarineEnv-v0',\n",
    "        entry_point='environments:MarineEnv',  # String reference to the class\n",
    "    )\n",
    "\n",
    "def yield_random_seed():\n",
    "    while True:\n",
    "        yield np.random.randint(low=1, high=201)\n",
    "seed_generator = yield_random_seed()"
   ]
  },
  {
   "cell_type": "code",
   "execution_count": 5,
   "id": "f13b1c19-a160-40fe-b6a4-75ebadbd7bb7",
   "metadata": {},
   "outputs": [],
   "source": [
    "env_kwargs = dict(\n",
    "        render_mode='rgb_array',\n",
    "        training_stage=2,\n",
    "        timescale=1/3,\n",
    "        training=False,\n",
    "        total_targets=2,\n",
    "    )\n",
    "    \n",
    "env = gym.make(\n",
    "        'MarineEnv-v0',\n",
    "        **env_kwargs,\n",
    "    )"
   ]
  },
  {
   "cell_type": "code",
   "execution_count": 6,
   "id": "81b8f464-be01-4703-bd32-2fac0c130057",
   "metadata": {},
   "outputs": [
    {
     "data": {
      "text/plain": [
       "(77,)"
      ]
     },
     "execution_count": 6,
     "metadata": {},
     "output_type": "execute_result"
    }
   ],
   "source": [
    "env.observation_space.shape"
   ]
  },
  {
   "cell_type": "code",
   "execution_count": 7,
   "id": "a7b249aa-1871-4416-ab16-a29c74411c0f",
   "metadata": {},
   "outputs": [],
   "source": [
    "def run_video_rendering(\n",
    "    agent: Any, \n",
    "    episodes: int = 3, \n",
    "    timescale: float = 1/6, \n",
    "    seed: Optional[int] = None, \n",
    "    record_video: bool = False, \n",
    "    episode_trigger: Optional[Callable[[int], bool]] = None, \n",
    "    name_prefix: Optional[str] = None, \n",
    "    video_folder: Optional[str] = None,\n",
    "    marl: bool = False,\n",
    ") -> None:\n",
    "    \"\"\"\n",
    "    Runs a simulation of the MarineEnv-v0 environment using the given agent, with optional video recording.\n",
    "\n",
    "    Parameters:\n",
    "    - agent: The trained agent used for inference.\n",
    "    - episodes (int): Number of episodes to run (default is 3).\n",
    "    - timescale (float): The simulation timescale factor (default is 1/6).\n",
    "    - seed (int, optional): Random seed for environment initialization. If None, a generated seed is used.\n",
    "    - record_video (bool): If True, records the simulation as a video (default is False).\n",
    "    - episode_trigger (function, optional): A function that determines which episodes get recorded.\n",
    "    - name_prefix (str, optional): Prefix for recorded video file names.\n",
    "    - video_folder (str, optional): Path to save recorded videos.\n",
    "    - marl (bool): If True, running the env in MARL mode.\n",
    "\n",
    "    Behavior:\n",
    "    - If video recording is enabled, the environment is wrapped with RecordVideo.\n",
    "    - Logs episode statistics, including total rewards, episode length, and termination status.\n",
    "    - If recording, logs are saved to a text file in the specified video folder.\n",
    "    - Displays simulation results in the console if video recording is disabled.\n",
    "\n",
    "    Returns:\n",
    "    - None. The function either logs the results to a file or prints them to the console.\n",
    "    \"\"\"\n",
    "    \n",
    "    if seed is None:\n",
    "        seed = next(seed_generator)\n",
    "        \n",
    "    kwargs = dict(\n",
    "        render_mode='rgb_array' if record_video else 'human',\n",
    "        continuous=True,\n",
    "        training_stage=2,\n",
    "        timescale=timescale,\n",
    "        training=False,\n",
    "        total_targets=2,\n",
    "        seed=seed,\n",
    "    )\n",
    "    \n",
    "    env = gym.make(\n",
    "        'MarineEnv-v0',\n",
    "        **kwargs,\n",
    "    )\n",
    "    \n",
    "    if record_video:\n",
    "        from IPython.display import HTML\n",
    "        from base64 import b64encode\n",
    "        \n",
    "        if episode_trigger is None:\n",
    "            episode_trigger = lambda episode_id: True\n",
    "\n",
    "        if video_folder is None:\n",
    "            video_folder = video_folder   \n",
    "        else:\n",
    "            if name_prefix:\n",
    "                video_folder = os.path.join(video_folder, name_prefix)\n",
    "        \n",
    "        # wrap environment for video recording\n",
    "        env = RecordVideo(\n",
    "            env=env, \n",
    "            video_folder=video_folder, \n",
    "            episode_trigger=lambda episode_id: True, \n",
    "            name_prefix=name_prefix)\n",
    "        \n",
    "    logged_episodes = []\n",
    "    logged_rewards = []\n",
    "    for episode in range(episodes):\n",
    "        state, _ = env.reset()\n",
    "        episode_rewards = 0\n",
    "\n",
    "        if marl:\n",
    "            eta = state[0][5]\n",
    "        else:\n",
    "            eta = state[5]\n",
    "        \n",
    "        for step in range(int(400 / timescale)):\n",
    "            if marl:\n",
    "                with torch.no_grad():\n",
    "                    actions = [agent.predict(i, deterministic=True)[0] for i in state]\n",
    "                next_state, reward, terminated, truncated, info = env.step(actions)\n",
    "            else:\n",
    "                with torch.no_grad():\n",
    "                    action = agent.predict(state, deterministic=True)\n",
    "            \n",
    "                state, reward, terminated, truncated, info = env.step(action[0])\n",
    "            \n",
    "            if not record_video:\n",
    "                env.render()\n",
    "                \n",
    "            episode_rewards += reward\n",
    "            \n",
    "            if terminated or truncated:\n",
    "                break\n",
    "                \n",
    "            time.sleep(0.005)\n",
    "         \n",
    "        result_string = f'Episode: {episode}\\nEpisode length: {step}, Elapsed real time: {round(step * timescale)} minutes, Initial WP ETA: {round(eta)} minutes\\nEpisode total rewards: {episode_rewards :.2f}\\nIs terminated: {info[\"terminated\"]}, Is truncated: {info[\"truncated\"]}\\n============================\\n'\n",
    "\n",
    "        logged_episodes.append(result_string)\n",
    "        logged_rewards.append(episode_rewards)\n",
    "\n",
    "    evaluation = f'Mean: {np.array(logged_rewards).mean():.2f}, Std: {np.array(logged_rewards).std():.2f}, Initial seed: {seed}'\n",
    "    logged_episodes.append(evaluation)\n",
    "    # Open log file\n",
    "    if record_video:\n",
    "        log_file_path = os.path.join(video_folder, name_prefix + '.txt')\n",
    "        with open(log_file_path, 'w') as log_file:\n",
    "            log_file.write('\\n'.join(logged_episodes))\n",
    "            print(f\"Training log saved at: {log_file_path}\")\n",
    "    else:\n",
    "        print('\\n'.join(logged_episodes))\n",
    "    \n",
    "    env.close()"
   ]
  },
  {
   "cell_type": "code",
   "execution_count": 8,
   "id": "ee1d5a25-2623-47bf-8208-108aa5b55755",
   "metadata": {},
   "outputs": [],
   "source": [
    "# setup of the training envs\n",
    "train_env = make_vec_env(env_id='MarineEnv-v0', n_envs=8, env_kwargs=env_kwargs)\n",
    "eval_env = gym.make('MarineEnv-v0', **env_kwargs)\n",
    "eval_env = Monitor(eval_env)"
   ]
  },
  {
   "cell_type": "code",
   "execution_count": 9,
   "id": "bc98ccec-060c-4c57-8c15-8882220db84c",
   "metadata": {},
   "outputs": [],
   "source": [
    "# setup of the defaut kwargs for initial training of PPO agent\n",
    "default_kwargs = {\n",
    "    'learning_rate': 3e-4,\n",
    "    'n_steps': 2048,\n",
    "    'batch_size': 64,\n",
    "    'n_epochs': 10,\n",
    "    'gamma': 0.99, \n",
    "    'gae_lambda': 0.95,\n",
    "    'clip_range': 0.2,\n",
    "    'ent_coef': 0.0,\n",
    "    'vf_coef': 0.5, \n",
    "    'max_grad_norm': 0.5,\n",
    "    'target_kl': None,\n",
    "    'tensorboard_log': log_folder,\n",
    "}"
   ]
  },
  {
   "cell_type": "code",
   "execution_count": 10,
   "id": "ad8ff3e7-439c-436d-ad2e-fa1cf5a9d0b0",
   "metadata": {},
   "outputs": [],
   "source": [
    "# establish initial agent\n",
    "agent = PPO(\n",
    "        policy='MlpPolicy',\n",
    "        env=train_env,\n",
    "        verbose=0,\n",
    "        device='cpu',\n",
    "        **default_kwargs,\n",
    "    )"
   ]
  },
  {
   "cell_type": "code",
   "execution_count": 11,
   "id": "99c48c15-9ead-4b1b-bcaa-f60dc7aa9ec1",
   "metadata": {},
   "outputs": [],
   "source": [
    "# eval callback - used to track the statistics of the training\n",
    "eval_callback = EvalCallback(\n",
    "        eval_env,\n",
    "        best_model_save_path=os.path.join(log_folder, 'default/best_model/'),\n",
    "        log_path=os.path.join(log_folder, 'default/results/'),\n",
    "        eval_freq=5000,\n",
    "        deterministic=True,\n",
    "        render=False\n",
    "    )"
   ]
  },
  {
   "cell_type": "code",
   "execution_count": 12,
   "id": "48d48b29-6651-4b5b-a9be-e7bfe6362cff",
   "metadata": {},
   "outputs": [
    {
     "data": {
      "text/plain": [
       "Box([ 0.00000000e+00 -1.00000000e+01  0.00000000e+00  0.00000000e+00\n",
       "  0.00000000e+00  0.00000000e+00  0.00000000e+00  0.00000000e+00\n",
       "  0.00000000e+00 -1.80000000e+02  0.00000000e+00  0.00000000e+00\n",
       "  0.00000000e+00  0.00000000e+00  0.00000000e+00 -1.50000000e+02\n",
       "  0.00000000e+00  5.00000007e-02  0.00000000e+00  0.00000000e+00\n",
       "  0.00000000e+00  0.00000000e+00 -1.80000000e+02  0.00000000e+00\n",
       "  0.00000000e+00 -1.00000000e+01 -3.00000000e+02  0.00000000e+00\n",
       "  0.00000000e+00  0.00000000e+00  0.00000000e+00  0.00000000e+00\n",
       "  0.00000000e+00  0.00000000e+00  0.00000000e+00  0.00000000e+00\n",
       "  0.00000000e+00 -1.50000000e+02  0.00000000e+00  5.00000007e-02\n",
       "  0.00000000e+00  0.00000000e+00  0.00000000e+00  0.00000000e+00\n",
       " -1.80000000e+02  0.00000000e+00  0.00000000e+00 -1.00000000e+01\n",
       " -3.00000000e+02  0.00000000e+00  0.00000000e+00  0.00000000e+00\n",
       "  0.00000000e+00  0.00000000e+00  0.00000000e+00  0.00000000e+00\n",
       "  0.00000000e+00  0.00000000e+00  0.00000000e+00 -1.50000000e+02\n",
       "  0.00000000e+00  5.00000007e-02  0.00000000e+00  0.00000000e+00\n",
       "  0.00000000e+00  0.00000000e+00 -1.80000000e+02  0.00000000e+00\n",
       "  0.00000000e+00 -1.00000000e+01 -3.00000000e+02  0.00000000e+00\n",
       "  0.00000000e+00  0.00000000e+00  0.00000000e+00  0.00000000e+00\n",
       "  0.00000000e+00], [360.  20.   1.   1.   1.   1.   1.  50. 300. 180. 300.   1.   1.   1.\n",
       "   1. 150.  50.   2.   1.   1. 360.  50. 180. 360.  50.  20. 300. 300.\n",
       "   1.   1.   1.   1.   1.   1.   1.   1.   1. 150.  50.   2.   1.   1.\n",
       " 360.  50. 180. 360.  50.  20. 300. 300.   1.   1.   1.   1.   1.   1.\n",
       "   1.   1.   1. 150.  50.   2.   1.   1. 360.  50. 180. 360.  50.  20.\n",
       " 300. 300.   1.   1.   1.   1.   1.], (77,), float64)"
      ]
     },
     "execution_count": 12,
     "metadata": {},
     "output_type": "execute_result"
    }
   ],
   "source": [
    "env.observation_space"
   ]
  },
  {
   "cell_type": "code",
   "execution_count": 13,
   "id": "c62e10ab-a4ca-466e-bed4-7d1a9d9cd66c",
   "metadata": {},
   "outputs": [
    {
     "data": {
      "text/plain": [
       "Box([ 0.00000000e+00 -1.00000000e+01  0.00000000e+00  0.00000000e+00\n",
       "  0.00000000e+00  0.00000000e+00  0.00000000e+00  0.00000000e+00\n",
       "  0.00000000e+00 -1.80000000e+02  0.00000000e+00  0.00000000e+00\n",
       "  0.00000000e+00  0.00000000e+00  0.00000000e+00 -1.50000000e+02\n",
       "  0.00000000e+00  5.00000007e-02  0.00000000e+00  0.00000000e+00\n",
       "  0.00000000e+00  0.00000000e+00 -1.80000000e+02  0.00000000e+00\n",
       "  0.00000000e+00 -1.00000000e+01 -3.00000000e+02  0.00000000e+00\n",
       "  0.00000000e+00  0.00000000e+00  0.00000000e+00  0.00000000e+00\n",
       "  0.00000000e+00  0.00000000e+00  0.00000000e+00  0.00000000e+00\n",
       "  0.00000000e+00 -1.50000000e+02  0.00000000e+00  5.00000007e-02\n",
       "  0.00000000e+00  0.00000000e+00  0.00000000e+00  0.00000000e+00\n",
       " -1.80000000e+02  0.00000000e+00  0.00000000e+00 -1.00000000e+01\n",
       " -3.00000000e+02  0.00000000e+00  0.00000000e+00  0.00000000e+00\n",
       "  0.00000000e+00  0.00000000e+00  0.00000000e+00  0.00000000e+00\n",
       "  0.00000000e+00  0.00000000e+00  0.00000000e+00 -1.50000000e+02\n",
       "  0.00000000e+00  5.00000007e-02  0.00000000e+00  0.00000000e+00\n",
       "  0.00000000e+00  0.00000000e+00 -1.80000000e+02  0.00000000e+00\n",
       "  0.00000000e+00 -1.00000000e+01 -3.00000000e+02  0.00000000e+00\n",
       "  0.00000000e+00  0.00000000e+00  0.00000000e+00  0.00000000e+00\n",
       "  0.00000000e+00], [360.  20.   1.   1.   1.   1.   1.  50. 300. 180. 300.   1.   1.   1.\n",
       "   1. 150.  50.   2.   1.   1. 360.  50. 180. 360.  50.  20. 300. 300.\n",
       "   1.   1.   1.   1.   1.   1.   1.   1.   1. 150.  50.   2.   1.   1.\n",
       " 360.  50. 180. 360.  50.  20. 300. 300.   1.   1.   1.   1.   1.   1.\n",
       "   1.   1.   1. 150.  50.   2.   1.   1. 360.  50. 180. 360.  50.  20.\n",
       " 300. 300.   1.   1.   1.   1.   1.], (77,), float64)"
      ]
     },
     "execution_count": 13,
     "metadata": {},
     "output_type": "execute_result"
    }
   ],
   "source": [
    "agent.observation_space"
   ]
  },
  {
   "cell_type": "code",
   "execution_count": 14,
   "id": "b6b4de70-7c4c-4146-8d57-bb95cd415de2",
   "metadata": {},
   "outputs": [
    {
     "data": {
      "application/vnd.jupyter.widget-view+json": {
       "model_id": "7c031965cf10438ebf737d9d8d304ab7",
       "version_major": 2,
       "version_minor": 0
      },
      "text/plain": [
       "Output()"
      ]
     },
     "metadata": {},
     "output_type": "display_data"
    },
    {
     "data": {
      "text/html": [
       "<pre style=\"white-space:pre;overflow-x:auto;line-height:normal;font-family:Menlo,'DejaVu Sans Mono',consolas,'Courier New',monospace\">/opt/conda/lib/python3.11/site-packages/gymnasium/utils/passive_env_checker.py:158: UserWarning: <span style=\"color: #808000; text-decoration-color: #808000\">WARN: The obs </span>\n",
       "<span style=\"color: #808000; text-decoration-color: #808000\">returned by the `step()` method is not within the observation space.</span>\n",
       "  logger.warn(f\"{pre} is not within the observation space.\")\n",
       "</pre>\n"
      ],
      "text/plain": [
       "/opt/conda/lib/python3.11/site-packages/gymnasium/utils/passive_env_checker.py:158: UserWarning: \u001b[33mWARN: The obs \u001b[0m\n",
       "\u001b[33mreturned by the `step()` method is not within the observation space.\u001b[0m\n",
       "  logger.warn(f\"{pre} is not within the observation space.\")\n"
      ]
     },
     "metadata": {},
     "output_type": "display_data"
    },
    {
     "name": "stdout",
     "output_type": "stream",
     "text": [
      "Seed set to 2106321759\n",
      "Seed set to 2106321760\n",
      "Seed set to 2106321761\n",
      "Seed set to 2106321762\n",
      "Seed set to 2106321763\n",
      "Seed set to 2106321764\n",
      "Seed set to 2106321765\n",
      "Seed set to 2106321766\n"
     ]
    },
    {
     "name": "stderr",
     "output_type": "stream",
     "text": [
      "/opt/conda/lib/python3.11/site-packages/gymnasium/utils/passive_env_checker.py:158: UserWarning: \u001b[33mWARN: The obs returned by the `reset()` method is not within the observation space.\u001b[0m\n",
      "  logger.warn(f\"{pre} is not within the observation space.\")\n"
     ]
    },
    {
     "ename": "TypeError",
     "evalue": "unsupported operand type(s) for -: 'NoneType' and 'int'",
     "output_type": "error",
     "traceback": [
      "\u001b[0;31m---------------------------------------------------------------------------\u001b[0m",
      "\u001b[0;31mTypeError\u001b[0m                                 Traceback (most recent call last)",
      "Cell \u001b[0;32mIn[14], line 1\u001b[0m\n\u001b[0;32m----> 1\u001b[0m \u001b[43magent\u001b[49m\u001b[38;5;241;43m.\u001b[39;49m\u001b[43mlearn\u001b[49m\u001b[43m(\u001b[49m\u001b[43mtotal_timesteps\u001b[49m\u001b[38;5;241;43m=\u001b[39;49m\u001b[38;5;28;43mint\u001b[39;49m\u001b[43m(\u001b[49m\u001b[38;5;241;43m6e5\u001b[39;49m\u001b[43m)\u001b[49m\u001b[43m,\u001b[49m\u001b[43m \u001b[49m\u001b[43mreset_num_timesteps\u001b[49m\u001b[38;5;241;43m=\u001b[39;49m\u001b[38;5;28;43;01mTrue\u001b[39;49;00m\u001b[43m,\u001b[49m\u001b[43m \u001b[49m\u001b[43mtb_log_name\u001b[49m\u001b[38;5;241;43m=\u001b[39;49m\u001b[38;5;124;43m'\u001b[39;49m\u001b[38;5;124;43mdefault/default_best\u001b[39;49m\u001b[38;5;124;43m'\u001b[39;49m\u001b[43m,\u001b[49m\u001b[43m \u001b[49m\u001b[43mprogress_bar\u001b[49m\u001b[38;5;241;43m=\u001b[39;49m\u001b[38;5;28;43;01mTrue\u001b[39;49;00m\u001b[43m,\u001b[49m\u001b[43m \u001b[49m\u001b[43mcallback\u001b[49m\u001b[38;5;241;43m=\u001b[39;49m\u001b[43meval_callback\u001b[49m\u001b[43m)\u001b[49m\n",
      "File \u001b[0;32m/opt/conda/lib/python3.11/site-packages/stable_baselines3/ppo/ppo.py:311\u001b[0m, in \u001b[0;36mPPO.learn\u001b[0;34m(self, total_timesteps, callback, log_interval, tb_log_name, reset_num_timesteps, progress_bar)\u001b[0m\n\u001b[1;32m    302\u001b[0m \u001b[38;5;28;01mdef\u001b[39;00m\u001b[38;5;250m \u001b[39m\u001b[38;5;21mlearn\u001b[39m(\n\u001b[1;32m    303\u001b[0m     \u001b[38;5;28mself\u001b[39m: SelfPPO,\n\u001b[1;32m    304\u001b[0m     total_timesteps: \u001b[38;5;28mint\u001b[39m,\n\u001b[0;32m   (...)\u001b[0m\n\u001b[1;32m    309\u001b[0m     progress_bar: \u001b[38;5;28mbool\u001b[39m \u001b[38;5;241m=\u001b[39m \u001b[38;5;28;01mFalse\u001b[39;00m,\n\u001b[1;32m    310\u001b[0m ) \u001b[38;5;241m-\u001b[39m\u001b[38;5;241m>\u001b[39m SelfPPO:\n\u001b[0;32m--> 311\u001b[0m     \u001b[38;5;28;01mreturn\u001b[39;00m \u001b[38;5;28;43msuper\u001b[39;49m\u001b[43m(\u001b[49m\u001b[43m)\u001b[49m\u001b[38;5;241;43m.\u001b[39;49m\u001b[43mlearn\u001b[49m\u001b[43m(\u001b[49m\n\u001b[1;32m    312\u001b[0m \u001b[43m        \u001b[49m\u001b[43mtotal_timesteps\u001b[49m\u001b[38;5;241;43m=\u001b[39;49m\u001b[43mtotal_timesteps\u001b[49m\u001b[43m,\u001b[49m\n\u001b[1;32m    313\u001b[0m \u001b[43m        \u001b[49m\u001b[43mcallback\u001b[49m\u001b[38;5;241;43m=\u001b[39;49m\u001b[43mcallback\u001b[49m\u001b[43m,\u001b[49m\n\u001b[1;32m    314\u001b[0m \u001b[43m        \u001b[49m\u001b[43mlog_interval\u001b[49m\u001b[38;5;241;43m=\u001b[39;49m\u001b[43mlog_interval\u001b[49m\u001b[43m,\u001b[49m\n\u001b[1;32m    315\u001b[0m \u001b[43m        \u001b[49m\u001b[43mtb_log_name\u001b[49m\u001b[38;5;241;43m=\u001b[39;49m\u001b[43mtb_log_name\u001b[49m\u001b[43m,\u001b[49m\n\u001b[1;32m    316\u001b[0m \u001b[43m        \u001b[49m\u001b[43mreset_num_timesteps\u001b[49m\u001b[38;5;241;43m=\u001b[39;49m\u001b[43mreset_num_timesteps\u001b[49m\u001b[43m,\u001b[49m\n\u001b[1;32m    317\u001b[0m \u001b[43m        \u001b[49m\u001b[43mprogress_bar\u001b[49m\u001b[38;5;241;43m=\u001b[39;49m\u001b[43mprogress_bar\u001b[49m\u001b[43m,\u001b[49m\n\u001b[1;32m    318\u001b[0m \u001b[43m    \u001b[49m\u001b[43m)\u001b[49m\n",
      "File \u001b[0;32m/opt/conda/lib/python3.11/site-packages/stable_baselines3/common/on_policy_algorithm.py:323\u001b[0m, in \u001b[0;36mOnPolicyAlgorithm.learn\u001b[0;34m(self, total_timesteps, callback, log_interval, tb_log_name, reset_num_timesteps, progress_bar)\u001b[0m\n\u001b[1;32m    320\u001b[0m \u001b[38;5;28;01massert\u001b[39;00m \u001b[38;5;28mself\u001b[39m\u001b[38;5;241m.\u001b[39menv \u001b[38;5;129;01mis\u001b[39;00m \u001b[38;5;129;01mnot\u001b[39;00m \u001b[38;5;28;01mNone\u001b[39;00m\n\u001b[1;32m    322\u001b[0m \u001b[38;5;28;01mwhile\u001b[39;00m \u001b[38;5;28mself\u001b[39m\u001b[38;5;241m.\u001b[39mnum_timesteps \u001b[38;5;241m<\u001b[39m total_timesteps:\n\u001b[0;32m--> 323\u001b[0m     continue_training \u001b[38;5;241m=\u001b[39m \u001b[38;5;28;43mself\u001b[39;49m\u001b[38;5;241;43m.\u001b[39;49m\u001b[43mcollect_rollouts\u001b[49m\u001b[43m(\u001b[49m\u001b[38;5;28;43mself\u001b[39;49m\u001b[38;5;241;43m.\u001b[39;49m\u001b[43menv\u001b[49m\u001b[43m,\u001b[49m\u001b[43m \u001b[49m\u001b[43mcallback\u001b[49m\u001b[43m,\u001b[49m\u001b[43m \u001b[49m\u001b[38;5;28;43mself\u001b[39;49m\u001b[38;5;241;43m.\u001b[39;49m\u001b[43mrollout_buffer\u001b[49m\u001b[43m,\u001b[49m\u001b[43m \u001b[49m\u001b[43mn_rollout_steps\u001b[49m\u001b[38;5;241;43m=\u001b[39;49m\u001b[38;5;28;43mself\u001b[39;49m\u001b[38;5;241;43m.\u001b[39;49m\u001b[43mn_steps\u001b[49m\u001b[43m)\u001b[49m\n\u001b[1;32m    325\u001b[0m     \u001b[38;5;28;01mif\u001b[39;00m \u001b[38;5;129;01mnot\u001b[39;00m continue_training:\n\u001b[1;32m    326\u001b[0m         \u001b[38;5;28;01mbreak\u001b[39;00m\n",
      "File \u001b[0;32m/opt/conda/lib/python3.11/site-packages/stable_baselines3/common/on_policy_algorithm.py:218\u001b[0m, in \u001b[0;36mOnPolicyAlgorithm.collect_rollouts\u001b[0;34m(self, env, callback, rollout_buffer, n_rollout_steps)\u001b[0m\n\u001b[1;32m    213\u001b[0m     \u001b[38;5;28;01melse\u001b[39;00m:\n\u001b[1;32m    214\u001b[0m         \u001b[38;5;66;03m# Otherwise, clip the actions to avoid out of bound error\u001b[39;00m\n\u001b[1;32m    215\u001b[0m         \u001b[38;5;66;03m# as we are sampling from an unbounded Gaussian distribution\u001b[39;00m\n\u001b[1;32m    216\u001b[0m         clipped_actions \u001b[38;5;241m=\u001b[39m np\u001b[38;5;241m.\u001b[39mclip(actions, \u001b[38;5;28mself\u001b[39m\u001b[38;5;241m.\u001b[39maction_space\u001b[38;5;241m.\u001b[39mlow, \u001b[38;5;28mself\u001b[39m\u001b[38;5;241m.\u001b[39maction_space\u001b[38;5;241m.\u001b[39mhigh)\n\u001b[0;32m--> 218\u001b[0m new_obs, rewards, dones, infos \u001b[38;5;241m=\u001b[39m \u001b[43menv\u001b[49m\u001b[38;5;241;43m.\u001b[39;49m\u001b[43mstep\u001b[49m\u001b[43m(\u001b[49m\u001b[43mclipped_actions\u001b[49m\u001b[43m)\u001b[49m\n\u001b[1;32m    220\u001b[0m \u001b[38;5;28mself\u001b[39m\u001b[38;5;241m.\u001b[39mnum_timesteps \u001b[38;5;241m+\u001b[39m\u001b[38;5;241m=\u001b[39m env\u001b[38;5;241m.\u001b[39mnum_envs\n\u001b[1;32m    222\u001b[0m \u001b[38;5;66;03m# Give access to local variables\u001b[39;00m\n",
      "File \u001b[0;32m/opt/conda/lib/python3.11/site-packages/stable_baselines3/common/vec_env/base_vec_env.py:207\u001b[0m, in \u001b[0;36mVecEnv.step\u001b[0;34m(self, actions)\u001b[0m\n\u001b[1;32m    200\u001b[0m \u001b[38;5;250m\u001b[39m\u001b[38;5;124;03m\"\"\"\u001b[39;00m\n\u001b[1;32m    201\u001b[0m \u001b[38;5;124;03mStep the environments with the given action\u001b[39;00m\n\u001b[1;32m    202\u001b[0m \n\u001b[1;32m    203\u001b[0m \u001b[38;5;124;03m:param actions: the action\u001b[39;00m\n\u001b[1;32m    204\u001b[0m \u001b[38;5;124;03m:return: observation, reward, done, information\u001b[39;00m\n\u001b[1;32m    205\u001b[0m \u001b[38;5;124;03m\"\"\"\u001b[39;00m\n\u001b[1;32m    206\u001b[0m \u001b[38;5;28mself\u001b[39m\u001b[38;5;241m.\u001b[39mstep_async(actions)\n\u001b[0;32m--> 207\u001b[0m \u001b[38;5;28;01mreturn\u001b[39;00m \u001b[38;5;28;43mself\u001b[39;49m\u001b[38;5;241;43m.\u001b[39;49m\u001b[43mstep_wait\u001b[49m\u001b[43m(\u001b[49m\u001b[43m)\u001b[49m\n",
      "File \u001b[0;32m/opt/conda/lib/python3.11/site-packages/stable_baselines3/common/vec_env/dummy_vec_env.py:59\u001b[0m, in \u001b[0;36mDummyVecEnv.step_wait\u001b[0;34m(self)\u001b[0m\n\u001b[1;32m     56\u001b[0m \u001b[38;5;28;01mdef\u001b[39;00m\u001b[38;5;250m \u001b[39m\u001b[38;5;21mstep_wait\u001b[39m(\u001b[38;5;28mself\u001b[39m) \u001b[38;5;241m-\u001b[39m\u001b[38;5;241m>\u001b[39m VecEnvStepReturn:\n\u001b[1;32m     57\u001b[0m     \u001b[38;5;66;03m# Avoid circular imports\u001b[39;00m\n\u001b[1;32m     58\u001b[0m     \u001b[38;5;28;01mfor\u001b[39;00m env_idx \u001b[38;5;129;01min\u001b[39;00m \u001b[38;5;28mrange\u001b[39m(\u001b[38;5;28mself\u001b[39m\u001b[38;5;241m.\u001b[39mnum_envs):\n\u001b[0;32m---> 59\u001b[0m         obs, \u001b[38;5;28mself\u001b[39m\u001b[38;5;241m.\u001b[39mbuf_rews[env_idx], terminated, truncated, \u001b[38;5;28mself\u001b[39m\u001b[38;5;241m.\u001b[39mbuf_infos[env_idx] \u001b[38;5;241m=\u001b[39m \u001b[38;5;28;43mself\u001b[39;49m\u001b[38;5;241;43m.\u001b[39;49m\u001b[43menvs\u001b[49m\u001b[43m[\u001b[49m\u001b[43menv_idx\u001b[49m\u001b[43m]\u001b[49m\u001b[38;5;241;43m.\u001b[39;49m\u001b[43mstep\u001b[49m\u001b[43m(\u001b[49m\u001b[43m  \u001b[49m\u001b[38;5;66;43;03m# type: ignore[assignment]\u001b[39;49;00m\n\u001b[1;32m     60\u001b[0m \u001b[43m            \u001b[49m\u001b[38;5;28;43mself\u001b[39;49m\u001b[38;5;241;43m.\u001b[39;49m\u001b[43mactions\u001b[49m\u001b[43m[\u001b[49m\u001b[43menv_idx\u001b[49m\u001b[43m]\u001b[49m\n\u001b[1;32m     61\u001b[0m \u001b[43m        \u001b[49m\u001b[43m)\u001b[49m\n\u001b[1;32m     62\u001b[0m         \u001b[38;5;66;03m# convert to SB3 VecEnv api\u001b[39;00m\n\u001b[1;32m     63\u001b[0m         \u001b[38;5;28mself\u001b[39m\u001b[38;5;241m.\u001b[39mbuf_dones[env_idx] \u001b[38;5;241m=\u001b[39m terminated \u001b[38;5;129;01mor\u001b[39;00m truncated\n",
      "File \u001b[0;32m/opt/conda/lib/python3.11/site-packages/stable_baselines3/common/monitor.py:94\u001b[0m, in \u001b[0;36mMonitor.step\u001b[0;34m(self, action)\u001b[0m\n\u001b[1;32m     92\u001b[0m \u001b[38;5;28;01mif\u001b[39;00m \u001b[38;5;28mself\u001b[39m\u001b[38;5;241m.\u001b[39mneeds_reset:\n\u001b[1;32m     93\u001b[0m     \u001b[38;5;28;01mraise\u001b[39;00m \u001b[38;5;167;01mRuntimeError\u001b[39;00m(\u001b[38;5;124m\"\u001b[39m\u001b[38;5;124mTried to step environment that needs reset\u001b[39m\u001b[38;5;124m\"\u001b[39m)\n\u001b[0;32m---> 94\u001b[0m observation, reward, terminated, truncated, info \u001b[38;5;241m=\u001b[39m \u001b[38;5;28;43mself\u001b[39;49m\u001b[38;5;241;43m.\u001b[39;49m\u001b[43menv\u001b[49m\u001b[38;5;241;43m.\u001b[39;49m\u001b[43mstep\u001b[49m\u001b[43m(\u001b[49m\u001b[43maction\u001b[49m\u001b[43m)\u001b[49m\n\u001b[1;32m     95\u001b[0m \u001b[38;5;28mself\u001b[39m\u001b[38;5;241m.\u001b[39mrewards\u001b[38;5;241m.\u001b[39mappend(\u001b[38;5;28mfloat\u001b[39m(reward))\n\u001b[1;32m     96\u001b[0m \u001b[38;5;28;01mif\u001b[39;00m terminated \u001b[38;5;129;01mor\u001b[39;00m truncated:\n",
      "File \u001b[0;32m/opt/conda/lib/python3.11/site-packages/gymnasium/wrappers/common.py:393\u001b[0m, in \u001b[0;36mOrderEnforcing.step\u001b[0;34m(self, action)\u001b[0m\n\u001b[1;32m    391\u001b[0m \u001b[38;5;28;01mif\u001b[39;00m \u001b[38;5;129;01mnot\u001b[39;00m \u001b[38;5;28mself\u001b[39m\u001b[38;5;241m.\u001b[39m_has_reset:\n\u001b[1;32m    392\u001b[0m     \u001b[38;5;28;01mraise\u001b[39;00m ResetNeeded(\u001b[38;5;124m\"\u001b[39m\u001b[38;5;124mCannot call env.step() before calling env.reset()\u001b[39m\u001b[38;5;124m\"\u001b[39m)\n\u001b[0;32m--> 393\u001b[0m \u001b[38;5;28;01mreturn\u001b[39;00m \u001b[38;5;28;43msuper\u001b[39;49m\u001b[43m(\u001b[49m\u001b[43m)\u001b[49m\u001b[38;5;241;43m.\u001b[39;49m\u001b[43mstep\u001b[49m\u001b[43m(\u001b[49m\u001b[43maction\u001b[49m\u001b[43m)\u001b[49m\n",
      "File \u001b[0;32m/opt/conda/lib/python3.11/site-packages/gymnasium/core.py:322\u001b[0m, in \u001b[0;36mWrapper.step\u001b[0;34m(self, action)\u001b[0m\n\u001b[1;32m    318\u001b[0m \u001b[38;5;28;01mdef\u001b[39;00m\u001b[38;5;250m \u001b[39m\u001b[38;5;21mstep\u001b[39m(\n\u001b[1;32m    319\u001b[0m     \u001b[38;5;28mself\u001b[39m, action: WrapperActType\n\u001b[1;32m    320\u001b[0m ) \u001b[38;5;241m-\u001b[39m\u001b[38;5;241m>\u001b[39m \u001b[38;5;28mtuple\u001b[39m[WrapperObsType, SupportsFloat, \u001b[38;5;28mbool\u001b[39m, \u001b[38;5;28mbool\u001b[39m, \u001b[38;5;28mdict\u001b[39m[\u001b[38;5;28mstr\u001b[39m, Any]]:\n\u001b[1;32m    321\u001b[0m \u001b[38;5;250m    \u001b[39m\u001b[38;5;124;03m\"\"\"Uses the :meth:`step` of the :attr:`env` that can be overwritten to change the returned data.\"\"\"\u001b[39;00m\n\u001b[0;32m--> 322\u001b[0m     \u001b[38;5;28;01mreturn\u001b[39;00m \u001b[38;5;28;43mself\u001b[39;49m\u001b[38;5;241;43m.\u001b[39;49m\u001b[43menv\u001b[49m\u001b[38;5;241;43m.\u001b[39;49m\u001b[43mstep\u001b[49m\u001b[43m(\u001b[49m\u001b[43maction\u001b[49m\u001b[43m)\u001b[49m\n",
      "File \u001b[0;32m/opt/conda/lib/python3.11/site-packages/gymnasium/wrappers/common.py:285\u001b[0m, in \u001b[0;36mPassiveEnvChecker.step\u001b[0;34m(self, action)\u001b[0m\n\u001b[1;32m    283\u001b[0m     \u001b[38;5;28;01mreturn\u001b[39;00m env_step_passive_checker(\u001b[38;5;28mself\u001b[39m\u001b[38;5;241m.\u001b[39menv, action)\n\u001b[1;32m    284\u001b[0m \u001b[38;5;28;01melse\u001b[39;00m:\n\u001b[0;32m--> 285\u001b[0m     \u001b[38;5;28;01mreturn\u001b[39;00m \u001b[38;5;28;43mself\u001b[39;49m\u001b[38;5;241;43m.\u001b[39;49m\u001b[43menv\u001b[49m\u001b[38;5;241;43m.\u001b[39;49m\u001b[43mstep\u001b[49m\u001b[43m(\u001b[49m\u001b[43maction\u001b[49m\u001b[43m)\u001b[49m\n",
      "File \u001b[0;32m/app/environments.py:237\u001b[0m, in \u001b[0;36mMarineEnv.step\u001b[0;34m(self, action)\u001b[0m\n\u001b[1;32m    231\u001b[0m raw_observation \u001b[38;5;241m=\u001b[39m {\n\u001b[1;32m    232\u001b[0m     \u001b[38;5;124m\"\u001b[39m\u001b[38;5;124mown_ship\u001b[39m\u001b[38;5;124m\"\u001b[39m: own_ship_data,\n\u001b[1;32m    233\u001b[0m     \u001b[38;5;124m\"\u001b[39m\u001b[38;5;124mtargets\u001b[39m\u001b[38;5;124m\"\u001b[39m: dangerous_targets_data\n\u001b[1;32m    234\u001b[0m }\n\u001b[1;32m    236\u001b[0m previous_obs \u001b[38;5;241m=\u001b[39m \u001b[38;5;28mself\u001b[39m\u001b[38;5;241m.\u001b[39mobservation\n\u001b[0;32m--> 237\u001b[0m current_obs \u001b[38;5;241m=\u001b[39m \u001b[38;5;28;43mself\u001b[39;49m\u001b[38;5;241;43m.\u001b[39;49m\u001b[43m_flatten_observation\u001b[49m\u001b[43m(\u001b[49m\u001b[43mraw_observation\u001b[49m\u001b[43m)\u001b[49m\n\u001b[1;32m    239\u001b[0m reward, terminated, truncated, info \u001b[38;5;241m=\u001b[39m \u001b[38;5;28mself\u001b[39m\u001b[38;5;241m.\u001b[39mcalculate_reward(previous_obs, current_obs)\n\u001b[1;32m    241\u001b[0m \u001b[38;5;66;03m# assign the current observation\u001b[39;00m\n",
      "File \u001b[0;32m/app/environments.py:814\u001b[0m, in \u001b[0;36mMarineEnv._flatten_observation\u001b[0;34m(self, raw_observation)\u001b[0m\n\u001b[1;32m    807\u001b[0m \u001b[38;5;250m\u001b[39m\u001b[38;5;124;03m\"\"\"\u001b[39;00m\n\u001b[1;32m    808\u001b[0m \u001b[38;5;124;03mFlattens a nested dictionary with tuples of dictionaries into a 1D NumPy array.\u001b[39;00m\n\u001b[1;32m    809\u001b[0m \n\u001b[1;32m    810\u001b[0m \u001b[38;5;124;03m:param raw_observation: Dict with 'own_ship' and 'targets'\u001b[39;00m\n\u001b[1;32m    811\u001b[0m \u001b[38;5;124;03m:return: Flattened NumPy array (axis=1)\u001b[39;00m\n\u001b[1;32m    812\u001b[0m \u001b[38;5;124;03m\"\"\"\u001b[39;00m\n\u001b[1;32m    813\u001b[0m \u001b[38;5;28;01mtry\u001b[39;00m:\n\u001b[0;32m--> 814\u001b[0m     \u001b[38;5;28;01mreturn\u001b[39;00m \u001b[43mflatten\u001b[49m\u001b[43m(\u001b[49m\u001b[38;5;28;43mself\u001b[39;49m\u001b[38;5;241;43m.\u001b[39;49m\u001b[43mraw_obs_space\u001b[49m\u001b[43m,\u001b[49m\u001b[43m \u001b[49m\u001b[43mraw_observation\u001b[49m\u001b[43m)\u001b[49m\n\u001b[1;32m    815\u001b[0m \u001b[38;5;28;01mexcept\u001b[39;00m \u001b[38;5;167;01mIndexError\u001b[39;00m:\n\u001b[1;32m    816\u001b[0m     \u001b[38;5;28;01mpass\u001b[39;00m\n",
      "File \u001b[0;32m/opt/conda/lib/python3.11/functools.py:909\u001b[0m, in \u001b[0;36msingledispatch.<locals>.wrapper\u001b[0;34m(*args, **kw)\u001b[0m\n\u001b[1;32m    905\u001b[0m \u001b[38;5;28;01mif\u001b[39;00m \u001b[38;5;129;01mnot\u001b[39;00m args:\n\u001b[1;32m    906\u001b[0m     \u001b[38;5;28;01mraise\u001b[39;00m \u001b[38;5;167;01mTypeError\u001b[39;00m(\u001b[38;5;124mf\u001b[39m\u001b[38;5;124m'\u001b[39m\u001b[38;5;132;01m{\u001b[39;00mfuncname\u001b[38;5;132;01m}\u001b[39;00m\u001b[38;5;124m requires at least \u001b[39m\u001b[38;5;124m'\u001b[39m\n\u001b[1;32m    907\u001b[0m                     \u001b[38;5;124m'\u001b[39m\u001b[38;5;124m1 positional argument\u001b[39m\u001b[38;5;124m'\u001b[39m)\n\u001b[0;32m--> 909\u001b[0m \u001b[38;5;28;01mreturn\u001b[39;00m \u001b[43mdispatch\u001b[49m\u001b[43m(\u001b[49m\u001b[43margs\u001b[49m\u001b[43m[\u001b[49m\u001b[38;5;241;43m0\u001b[39;49m\u001b[43m]\u001b[49m\u001b[38;5;241;43m.\u001b[39;49m\u001b[38;5;18;43m__class__\u001b[39;49m\u001b[43m)\u001b[49m\u001b[43m(\u001b[49m\u001b[38;5;241;43m*\u001b[39;49m\u001b[43margs\u001b[49m\u001b[43m,\u001b[49m\u001b[43m \u001b[49m\u001b[38;5;241;43m*\u001b[39;49m\u001b[38;5;241;43m*\u001b[39;49m\u001b[43mkw\u001b[49m\u001b[43m)\u001b[49m\n",
      "File \u001b[0;32m/opt/conda/lib/python3.11/site-packages/gymnasium/spaces/utils.py:202\u001b[0m, in \u001b[0;36m_flatten_dict\u001b[0;34m(space, x)\u001b[0m\n\u001b[1;32m    198\u001b[0m \u001b[38;5;129m@flatten\u001b[39m\u001b[38;5;241m.\u001b[39mregister(Dict)\n\u001b[1;32m    199\u001b[0m \u001b[38;5;28;01mdef\u001b[39;00m\u001b[38;5;250m \u001b[39m\u001b[38;5;21m_flatten_dict\u001b[39m(space: Dict, x: \u001b[38;5;28mdict\u001b[39m[\u001b[38;5;28mstr\u001b[39m, Any]) \u001b[38;5;241m-\u001b[39m\u001b[38;5;241m>\u001b[39m \u001b[38;5;28mdict\u001b[39m[\u001b[38;5;28mstr\u001b[39m, Any] \u001b[38;5;241m|\u001b[39m NDArray[Any]:\n\u001b[1;32m    200\u001b[0m     \u001b[38;5;28;01mif\u001b[39;00m space\u001b[38;5;241m.\u001b[39mis_np_flattenable:\n\u001b[1;32m    201\u001b[0m         \u001b[38;5;28;01mreturn\u001b[39;00m np\u001b[38;5;241m.\u001b[39mconcatenate(\n\u001b[0;32m--> 202\u001b[0m             \u001b[43m[\u001b[49m\u001b[43mnp\u001b[49m\u001b[38;5;241;43m.\u001b[39;49m\u001b[43marray\u001b[49m\u001b[43m(\u001b[49m\u001b[43mflatten\u001b[49m\u001b[43m(\u001b[49m\u001b[43ms\u001b[49m\u001b[43m,\u001b[49m\u001b[43m \u001b[49m\u001b[43mx\u001b[49m\u001b[43m[\u001b[49m\u001b[43mkey\u001b[49m\u001b[43m]\u001b[49m\u001b[43m)\u001b[49m\u001b[43m)\u001b[49m\u001b[43m \u001b[49m\u001b[38;5;28;43;01mfor\u001b[39;49;00m\u001b[43m \u001b[49m\u001b[43mkey\u001b[49m\u001b[43m,\u001b[49m\u001b[43m \u001b[49m\u001b[43ms\u001b[49m\u001b[43m \u001b[49m\u001b[38;5;129;43;01min\u001b[39;49;00m\u001b[43m \u001b[49m\u001b[43mspace\u001b[49m\u001b[38;5;241;43m.\u001b[39;49m\u001b[43mspaces\u001b[49m\u001b[38;5;241;43m.\u001b[39;49m\u001b[43mitems\u001b[49m\u001b[43m(\u001b[49m\u001b[43m)\u001b[49m\u001b[43m]\u001b[49m\n\u001b[1;32m    203\u001b[0m         )\n\u001b[1;32m    204\u001b[0m     \u001b[38;5;28;01mreturn\u001b[39;00m {key: flatten(s, x[key]) \u001b[38;5;28;01mfor\u001b[39;00m key, s \u001b[38;5;129;01min\u001b[39;00m space\u001b[38;5;241m.\u001b[39mspaces\u001b[38;5;241m.\u001b[39mitems()}\n",
      "File \u001b[0;32m/opt/conda/lib/python3.11/site-packages/gymnasium/spaces/utils.py:202\u001b[0m, in \u001b[0;36m<listcomp>\u001b[0;34m(.0)\u001b[0m\n\u001b[1;32m    198\u001b[0m \u001b[38;5;129m@flatten\u001b[39m\u001b[38;5;241m.\u001b[39mregister(Dict)\n\u001b[1;32m    199\u001b[0m \u001b[38;5;28;01mdef\u001b[39;00m\u001b[38;5;250m \u001b[39m\u001b[38;5;21m_flatten_dict\u001b[39m(space: Dict, x: \u001b[38;5;28mdict\u001b[39m[\u001b[38;5;28mstr\u001b[39m, Any]) \u001b[38;5;241m-\u001b[39m\u001b[38;5;241m>\u001b[39m \u001b[38;5;28mdict\u001b[39m[\u001b[38;5;28mstr\u001b[39m, Any] \u001b[38;5;241m|\u001b[39m NDArray[Any]:\n\u001b[1;32m    200\u001b[0m     \u001b[38;5;28;01mif\u001b[39;00m space\u001b[38;5;241m.\u001b[39mis_np_flattenable:\n\u001b[1;32m    201\u001b[0m         \u001b[38;5;28;01mreturn\u001b[39;00m np\u001b[38;5;241m.\u001b[39mconcatenate(\n\u001b[0;32m--> 202\u001b[0m             [np\u001b[38;5;241m.\u001b[39marray(\u001b[43mflatten\u001b[49m\u001b[43m(\u001b[49m\u001b[43ms\u001b[49m\u001b[43m,\u001b[49m\u001b[43m \u001b[49m\u001b[43mx\u001b[49m\u001b[43m[\u001b[49m\u001b[43mkey\u001b[49m\u001b[43m]\u001b[49m\u001b[43m)\u001b[49m) \u001b[38;5;28;01mfor\u001b[39;00m key, s \u001b[38;5;129;01min\u001b[39;00m space\u001b[38;5;241m.\u001b[39mspaces\u001b[38;5;241m.\u001b[39mitems()]\n\u001b[1;32m    203\u001b[0m         )\n\u001b[1;32m    204\u001b[0m     \u001b[38;5;28;01mreturn\u001b[39;00m {key: flatten(s, x[key]) \u001b[38;5;28;01mfor\u001b[39;00m key, s \u001b[38;5;129;01min\u001b[39;00m space\u001b[38;5;241m.\u001b[39mspaces\u001b[38;5;241m.\u001b[39mitems()}\n",
      "File \u001b[0;32m/opt/conda/lib/python3.11/functools.py:909\u001b[0m, in \u001b[0;36msingledispatch.<locals>.wrapper\u001b[0;34m(*args, **kw)\u001b[0m\n\u001b[1;32m    905\u001b[0m \u001b[38;5;28;01mif\u001b[39;00m \u001b[38;5;129;01mnot\u001b[39;00m args:\n\u001b[1;32m    906\u001b[0m     \u001b[38;5;28;01mraise\u001b[39;00m \u001b[38;5;167;01mTypeError\u001b[39;00m(\u001b[38;5;124mf\u001b[39m\u001b[38;5;124m'\u001b[39m\u001b[38;5;132;01m{\u001b[39;00mfuncname\u001b[38;5;132;01m}\u001b[39;00m\u001b[38;5;124m requires at least \u001b[39m\u001b[38;5;124m'\u001b[39m\n\u001b[1;32m    907\u001b[0m                     \u001b[38;5;124m'\u001b[39m\u001b[38;5;124m1 positional argument\u001b[39m\u001b[38;5;124m'\u001b[39m)\n\u001b[0;32m--> 909\u001b[0m \u001b[38;5;28;01mreturn\u001b[39;00m \u001b[43mdispatch\u001b[49m\u001b[43m(\u001b[49m\u001b[43margs\u001b[49m\u001b[43m[\u001b[49m\u001b[38;5;241;43m0\u001b[39;49m\u001b[43m]\u001b[49m\u001b[38;5;241;43m.\u001b[39;49m\u001b[38;5;18;43m__class__\u001b[39;49m\u001b[43m)\u001b[49m\u001b[43m(\u001b[49m\u001b[38;5;241;43m*\u001b[39;49m\u001b[43margs\u001b[49m\u001b[43m,\u001b[49m\u001b[43m \u001b[49m\u001b[38;5;241;43m*\u001b[39;49m\u001b[38;5;241;43m*\u001b[39;49m\u001b[43mkw\u001b[49m\u001b[43m)\u001b[49m\n",
      "File \u001b[0;32m/opt/conda/lib/python3.11/site-packages/gymnasium/spaces/utils.py:193\u001b[0m, in \u001b[0;36m_flatten_tuple\u001b[0;34m(space, x)\u001b[0m\n\u001b[1;32m    189\u001b[0m \u001b[38;5;129m@flatten\u001b[39m\u001b[38;5;241m.\u001b[39mregister(Tuple)\n\u001b[1;32m    190\u001b[0m \u001b[38;5;28;01mdef\u001b[39;00m\u001b[38;5;250m \u001b[39m\u001b[38;5;21m_flatten_tuple\u001b[39m(space: Tuple, x: \u001b[38;5;28mtuple\u001b[39m[Any, \u001b[38;5;241m.\u001b[39m\u001b[38;5;241m.\u001b[39m\u001b[38;5;241m.\u001b[39m]) \u001b[38;5;241m-\u001b[39m\u001b[38;5;241m>\u001b[39m \u001b[38;5;28mtuple\u001b[39m[Any, \u001b[38;5;241m.\u001b[39m\u001b[38;5;241m.\u001b[39m\u001b[38;5;241m.\u001b[39m] \u001b[38;5;241m|\u001b[39m NDArray[Any]:\n\u001b[1;32m    191\u001b[0m     \u001b[38;5;28;01mif\u001b[39;00m space\u001b[38;5;241m.\u001b[39mis_np_flattenable:\n\u001b[1;32m    192\u001b[0m         \u001b[38;5;28;01mreturn\u001b[39;00m np\u001b[38;5;241m.\u001b[39mconcatenate(\n\u001b[0;32m--> 193\u001b[0m             \u001b[43m[\u001b[49m\u001b[43mnp\u001b[49m\u001b[38;5;241;43m.\u001b[39;49m\u001b[43marray\u001b[49m\u001b[43m(\u001b[49m\u001b[43mflatten\u001b[49m\u001b[43m(\u001b[49m\u001b[43ms\u001b[49m\u001b[43m,\u001b[49m\u001b[43m \u001b[49m\u001b[43mx_part\u001b[49m\u001b[43m)\u001b[49m\u001b[43m)\u001b[49m\u001b[43m \u001b[49m\u001b[38;5;28;43;01mfor\u001b[39;49;00m\u001b[43m \u001b[49m\u001b[43mx_part\u001b[49m\u001b[43m,\u001b[49m\u001b[43m \u001b[49m\u001b[43ms\u001b[49m\u001b[43m \u001b[49m\u001b[38;5;129;43;01min\u001b[39;49;00m\u001b[43m \u001b[49m\u001b[38;5;28;43mzip\u001b[39;49m\u001b[43m(\u001b[49m\u001b[43mx\u001b[49m\u001b[43m,\u001b[49m\u001b[43m \u001b[49m\u001b[43mspace\u001b[49m\u001b[38;5;241;43m.\u001b[39;49m\u001b[43mspaces\u001b[49m\u001b[43m)\u001b[49m\u001b[43m]\u001b[49m\n\u001b[1;32m    194\u001b[0m         )\n\u001b[1;32m    195\u001b[0m     \u001b[38;5;28;01mreturn\u001b[39;00m \u001b[38;5;28mtuple\u001b[39m(flatten(s, x_part) \u001b[38;5;28;01mfor\u001b[39;00m x_part, s \u001b[38;5;129;01min\u001b[39;00m \u001b[38;5;28mzip\u001b[39m(x, space\u001b[38;5;241m.\u001b[39mspaces))\n",
      "File \u001b[0;32m/opt/conda/lib/python3.11/site-packages/gymnasium/spaces/utils.py:193\u001b[0m, in \u001b[0;36m<listcomp>\u001b[0;34m(.0)\u001b[0m\n\u001b[1;32m    189\u001b[0m \u001b[38;5;129m@flatten\u001b[39m\u001b[38;5;241m.\u001b[39mregister(Tuple)\n\u001b[1;32m    190\u001b[0m \u001b[38;5;28;01mdef\u001b[39;00m\u001b[38;5;250m \u001b[39m\u001b[38;5;21m_flatten_tuple\u001b[39m(space: Tuple, x: \u001b[38;5;28mtuple\u001b[39m[Any, \u001b[38;5;241m.\u001b[39m\u001b[38;5;241m.\u001b[39m\u001b[38;5;241m.\u001b[39m]) \u001b[38;5;241m-\u001b[39m\u001b[38;5;241m>\u001b[39m \u001b[38;5;28mtuple\u001b[39m[Any, \u001b[38;5;241m.\u001b[39m\u001b[38;5;241m.\u001b[39m\u001b[38;5;241m.\u001b[39m] \u001b[38;5;241m|\u001b[39m NDArray[Any]:\n\u001b[1;32m    191\u001b[0m     \u001b[38;5;28;01mif\u001b[39;00m space\u001b[38;5;241m.\u001b[39mis_np_flattenable:\n\u001b[1;32m    192\u001b[0m         \u001b[38;5;28;01mreturn\u001b[39;00m np\u001b[38;5;241m.\u001b[39mconcatenate(\n\u001b[0;32m--> 193\u001b[0m             [np\u001b[38;5;241m.\u001b[39marray(\u001b[43mflatten\u001b[49m\u001b[43m(\u001b[49m\u001b[43ms\u001b[49m\u001b[43m,\u001b[49m\u001b[43m \u001b[49m\u001b[43mx_part\u001b[49m\u001b[43m)\u001b[49m) \u001b[38;5;28;01mfor\u001b[39;00m x_part, s \u001b[38;5;129;01min\u001b[39;00m \u001b[38;5;28mzip\u001b[39m(x, space\u001b[38;5;241m.\u001b[39mspaces)]\n\u001b[1;32m    194\u001b[0m         )\n\u001b[1;32m    195\u001b[0m     \u001b[38;5;28;01mreturn\u001b[39;00m \u001b[38;5;28mtuple\u001b[39m(flatten(s, x_part) \u001b[38;5;28;01mfor\u001b[39;00m x_part, s \u001b[38;5;129;01min\u001b[39;00m \u001b[38;5;28mzip\u001b[39m(x, space\u001b[38;5;241m.\u001b[39mspaces))\n",
      "File \u001b[0;32m/opt/conda/lib/python3.11/functools.py:909\u001b[0m, in \u001b[0;36msingledispatch.<locals>.wrapper\u001b[0;34m(*args, **kw)\u001b[0m\n\u001b[1;32m    905\u001b[0m \u001b[38;5;28;01mif\u001b[39;00m \u001b[38;5;129;01mnot\u001b[39;00m args:\n\u001b[1;32m    906\u001b[0m     \u001b[38;5;28;01mraise\u001b[39;00m \u001b[38;5;167;01mTypeError\u001b[39;00m(\u001b[38;5;124mf\u001b[39m\u001b[38;5;124m'\u001b[39m\u001b[38;5;132;01m{\u001b[39;00mfuncname\u001b[38;5;132;01m}\u001b[39;00m\u001b[38;5;124m requires at least \u001b[39m\u001b[38;5;124m'\u001b[39m\n\u001b[1;32m    907\u001b[0m                     \u001b[38;5;124m'\u001b[39m\u001b[38;5;124m1 positional argument\u001b[39m\u001b[38;5;124m'\u001b[39m)\n\u001b[0;32m--> 909\u001b[0m \u001b[38;5;28;01mreturn\u001b[39;00m \u001b[43mdispatch\u001b[49m\u001b[43m(\u001b[49m\u001b[43margs\u001b[49m\u001b[43m[\u001b[49m\u001b[38;5;241;43m0\u001b[39;49m\u001b[43m]\u001b[49m\u001b[38;5;241;43m.\u001b[39;49m\u001b[38;5;18;43m__class__\u001b[39;49m\u001b[43m)\u001b[49m\u001b[43m(\u001b[49m\u001b[38;5;241;43m*\u001b[39;49m\u001b[43margs\u001b[49m\u001b[43m,\u001b[49m\u001b[43m \u001b[49m\u001b[38;5;241;43m*\u001b[39;49m\u001b[38;5;241;43m*\u001b[39;49m\u001b[43mkw\u001b[49m\u001b[43m)\u001b[49m\n",
      "File \u001b[0;32m/opt/conda/lib/python3.11/site-packages/gymnasium/spaces/utils.py:202\u001b[0m, in \u001b[0;36m_flatten_dict\u001b[0;34m(space, x)\u001b[0m\n\u001b[1;32m    198\u001b[0m \u001b[38;5;129m@flatten\u001b[39m\u001b[38;5;241m.\u001b[39mregister(Dict)\n\u001b[1;32m    199\u001b[0m \u001b[38;5;28;01mdef\u001b[39;00m\u001b[38;5;250m \u001b[39m\u001b[38;5;21m_flatten_dict\u001b[39m(space: Dict, x: \u001b[38;5;28mdict\u001b[39m[\u001b[38;5;28mstr\u001b[39m, Any]) \u001b[38;5;241m-\u001b[39m\u001b[38;5;241m>\u001b[39m \u001b[38;5;28mdict\u001b[39m[\u001b[38;5;28mstr\u001b[39m, Any] \u001b[38;5;241m|\u001b[39m NDArray[Any]:\n\u001b[1;32m    200\u001b[0m     \u001b[38;5;28;01mif\u001b[39;00m space\u001b[38;5;241m.\u001b[39mis_np_flattenable:\n\u001b[1;32m    201\u001b[0m         \u001b[38;5;28;01mreturn\u001b[39;00m np\u001b[38;5;241m.\u001b[39mconcatenate(\n\u001b[0;32m--> 202\u001b[0m             \u001b[43m[\u001b[49m\u001b[43mnp\u001b[49m\u001b[38;5;241;43m.\u001b[39;49m\u001b[43marray\u001b[49m\u001b[43m(\u001b[49m\u001b[43mflatten\u001b[49m\u001b[43m(\u001b[49m\u001b[43ms\u001b[49m\u001b[43m,\u001b[49m\u001b[43m \u001b[49m\u001b[43mx\u001b[49m\u001b[43m[\u001b[49m\u001b[43mkey\u001b[49m\u001b[43m]\u001b[49m\u001b[43m)\u001b[49m\u001b[43m)\u001b[49m\u001b[43m \u001b[49m\u001b[38;5;28;43;01mfor\u001b[39;49;00m\u001b[43m \u001b[49m\u001b[43mkey\u001b[49m\u001b[43m,\u001b[49m\u001b[43m \u001b[49m\u001b[43ms\u001b[49m\u001b[43m \u001b[49m\u001b[38;5;129;43;01min\u001b[39;49;00m\u001b[43m \u001b[49m\u001b[43mspace\u001b[49m\u001b[38;5;241;43m.\u001b[39;49m\u001b[43mspaces\u001b[49m\u001b[38;5;241;43m.\u001b[39;49m\u001b[43mitems\u001b[49m\u001b[43m(\u001b[49m\u001b[43m)\u001b[49m\u001b[43m]\u001b[49m\n\u001b[1;32m    203\u001b[0m         )\n\u001b[1;32m    204\u001b[0m     \u001b[38;5;28;01mreturn\u001b[39;00m {key: flatten(s, x[key]) \u001b[38;5;28;01mfor\u001b[39;00m key, s \u001b[38;5;129;01min\u001b[39;00m space\u001b[38;5;241m.\u001b[39mspaces\u001b[38;5;241m.\u001b[39mitems()}\n",
      "File \u001b[0;32m/opt/conda/lib/python3.11/site-packages/gymnasium/spaces/utils.py:202\u001b[0m, in \u001b[0;36m<listcomp>\u001b[0;34m(.0)\u001b[0m\n\u001b[1;32m    198\u001b[0m \u001b[38;5;129m@flatten\u001b[39m\u001b[38;5;241m.\u001b[39mregister(Dict)\n\u001b[1;32m    199\u001b[0m \u001b[38;5;28;01mdef\u001b[39;00m\u001b[38;5;250m \u001b[39m\u001b[38;5;21m_flatten_dict\u001b[39m(space: Dict, x: \u001b[38;5;28mdict\u001b[39m[\u001b[38;5;28mstr\u001b[39m, Any]) \u001b[38;5;241m-\u001b[39m\u001b[38;5;241m>\u001b[39m \u001b[38;5;28mdict\u001b[39m[\u001b[38;5;28mstr\u001b[39m, Any] \u001b[38;5;241m|\u001b[39m NDArray[Any]:\n\u001b[1;32m    200\u001b[0m     \u001b[38;5;28;01mif\u001b[39;00m space\u001b[38;5;241m.\u001b[39mis_np_flattenable:\n\u001b[1;32m    201\u001b[0m         \u001b[38;5;28;01mreturn\u001b[39;00m np\u001b[38;5;241m.\u001b[39mconcatenate(\n\u001b[0;32m--> 202\u001b[0m             [np\u001b[38;5;241m.\u001b[39marray(\u001b[43mflatten\u001b[49m\u001b[43m(\u001b[49m\u001b[43ms\u001b[49m\u001b[43m,\u001b[49m\u001b[43m \u001b[49m\u001b[43mx\u001b[49m\u001b[43m[\u001b[49m\u001b[43mkey\u001b[49m\u001b[43m]\u001b[49m\u001b[43m)\u001b[49m) \u001b[38;5;28;01mfor\u001b[39;00m key, s \u001b[38;5;129;01min\u001b[39;00m space\u001b[38;5;241m.\u001b[39mspaces\u001b[38;5;241m.\u001b[39mitems()]\n\u001b[1;32m    203\u001b[0m         )\n\u001b[1;32m    204\u001b[0m     \u001b[38;5;28;01mreturn\u001b[39;00m {key: flatten(s, x[key]) \u001b[38;5;28;01mfor\u001b[39;00m key, s \u001b[38;5;129;01min\u001b[39;00m space\u001b[38;5;241m.\u001b[39mspaces\u001b[38;5;241m.\u001b[39mitems()}\n",
      "File \u001b[0;32m/opt/conda/lib/python3.11/functools.py:909\u001b[0m, in \u001b[0;36msingledispatch.<locals>.wrapper\u001b[0;34m(*args, **kw)\u001b[0m\n\u001b[1;32m    905\u001b[0m \u001b[38;5;28;01mif\u001b[39;00m \u001b[38;5;129;01mnot\u001b[39;00m args:\n\u001b[1;32m    906\u001b[0m     \u001b[38;5;28;01mraise\u001b[39;00m \u001b[38;5;167;01mTypeError\u001b[39;00m(\u001b[38;5;124mf\u001b[39m\u001b[38;5;124m'\u001b[39m\u001b[38;5;132;01m{\u001b[39;00mfuncname\u001b[38;5;132;01m}\u001b[39;00m\u001b[38;5;124m requires at least \u001b[39m\u001b[38;5;124m'\u001b[39m\n\u001b[1;32m    907\u001b[0m                     \u001b[38;5;124m'\u001b[39m\u001b[38;5;124m1 positional argument\u001b[39m\u001b[38;5;124m'\u001b[39m)\n\u001b[0;32m--> 909\u001b[0m \u001b[38;5;28;01mreturn\u001b[39;00m \u001b[43mdispatch\u001b[49m\u001b[43m(\u001b[49m\u001b[43margs\u001b[49m\u001b[43m[\u001b[49m\u001b[38;5;241;43m0\u001b[39;49m\u001b[43m]\u001b[49m\u001b[38;5;241;43m.\u001b[39;49m\u001b[38;5;18;43m__class__\u001b[39;49m\u001b[43m)\u001b[49m\u001b[43m(\u001b[49m\u001b[38;5;241;43m*\u001b[39;49m\u001b[43margs\u001b[49m\u001b[43m,\u001b[49m\u001b[43m \u001b[49m\u001b[38;5;241;43m*\u001b[39;49m\u001b[38;5;241;43m*\u001b[39;49m\u001b[43mkw\u001b[49m\u001b[43m)\u001b[49m\n",
      "File \u001b[0;32m/opt/conda/lib/python3.11/site-packages/gymnasium/spaces/utils.py:173\u001b[0m, in \u001b[0;36m_flatten_discrete\u001b[0;34m(space, x)\u001b[0m\n\u001b[1;32m    170\u001b[0m \u001b[38;5;129m@flatten\u001b[39m\u001b[38;5;241m.\u001b[39mregister(Discrete)\n\u001b[1;32m    171\u001b[0m \u001b[38;5;28;01mdef\u001b[39;00m\u001b[38;5;250m \u001b[39m\u001b[38;5;21m_flatten_discrete\u001b[39m(space: Discrete, x: np\u001b[38;5;241m.\u001b[39mint64) \u001b[38;5;241m-\u001b[39m\u001b[38;5;241m>\u001b[39m NDArray[np\u001b[38;5;241m.\u001b[39mint64]:\n\u001b[1;32m    172\u001b[0m     onehot \u001b[38;5;241m=\u001b[39m np\u001b[38;5;241m.\u001b[39mzeros(space\u001b[38;5;241m.\u001b[39mn, dtype\u001b[38;5;241m=\u001b[39mspace\u001b[38;5;241m.\u001b[39mdtype)\n\u001b[0;32m--> 173\u001b[0m     onehot[\u001b[43mx\u001b[49m\u001b[43m \u001b[49m\u001b[38;5;241;43m-\u001b[39;49m\u001b[43m \u001b[49m\u001b[43mspace\u001b[49m\u001b[38;5;241;43m.\u001b[39;49m\u001b[43mstart\u001b[49m] \u001b[38;5;241m=\u001b[39m \u001b[38;5;241m1\u001b[39m\n\u001b[1;32m    174\u001b[0m     \u001b[38;5;28;01mreturn\u001b[39;00m onehot\n",
      "\u001b[0;31mTypeError\u001b[0m: unsupported operand type(s) for -: 'NoneType' and 'int'"
     ]
    }
   ],
   "source": [
    "agent.learn(total_timesteps=int(6e5), reset_num_timesteps=True, tb_log_name='default/default_best', progress_bar=True, callback=eval_callback)"
   ]
  },
  {
   "cell_type": "code",
   "execution_count": null,
   "id": "9f58e2fe-f0c6-4c96-87db-788c6ddb6393",
   "metadata": {},
   "outputs": [],
   "source": [
    "env.reset()"
   ]
  },
  {
   "cell_type": "code",
   "execution_count": null,
   "id": "6ea31075-50e9-4ee1-b60f-8f41a6a02d66",
   "metadata": {},
   "outputs": [],
   "source": [
    "run_video_rendering(agent, episodes=1)"
   ]
  },
  {
   "cell_type": "code",
   "execution_count": null,
   "id": "6c1530a7-5fe6-40e5-a035-d124fea616a9",
   "metadata": {},
   "outputs": [],
   "source": [
    "run_video_rendering(agent, episodes=1, marl=False, seed=42)"
   ]
  },
  {
   "cell_type": "code",
   "execution_count": null,
   "id": "93863a12-3c3a-4ef6-93aa-54855c9af09b",
   "metadata": {},
   "outputs": [],
   "source": []
  }
 ],
 "metadata": {
  "kernelspec": {
   "display_name": "Python 3 (ipykernel)",
   "language": "python",
   "name": "python3"
  },
  "language_info": {
   "codemirror_mode": {
    "name": "ipython",
    "version": 3
   },
   "file_extension": ".py",
   "mimetype": "text/x-python",
   "name": "python",
   "nbconvert_exporter": "python",
   "pygments_lexer": "ipython3",
   "version": "3.11.11"
  }
 },
 "nbformat": 4,
 "nbformat_minor": 5
}
